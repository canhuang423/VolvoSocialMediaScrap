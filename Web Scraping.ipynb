{
 "cells": [
  {
   "cell_type": "markdown",
   "metadata": {},
   "source": [
    "# Webscraping Volvo's Car Review From Edmunds\n"
   ]
  },
  {
   "cell_type": "markdown",
   "metadata": {},
   "source": [
    "### 1. Import the required packages\n"
   ]
  },
  {
   "cell_type": "code",
   "execution_count": 2,
   "metadata": {},
   "outputs": [],
   "source": [
    "import pandas as pd\n",
    "import numpy as np\n",
    "from bs4 import BeautifulSoup\n",
    "from requests import get\n",
    "from urllib.request import urlopen\n",
    "from bs4 import NavigableString\n",
    "import re\n",
    "import time\n",
    "from lxml.html import fromstring\n",
    "import requests\n",
    "from itertools import cycle\n",
    "import traceback\n",
    "# from selenium import webdriver\n"
   ]
  },
  {
   "cell_type": "markdown",
   "metadata": {},
   "source": [
    "### 2. Create a list that contains the desired Volvo's car models and years"
   ]
  },
  {
   "cell_type": "code",
   "execution_count": 3,
   "metadata": {},
   "outputs": [],
   "source": [
    "car_model = [\n",
    "    '240',\n",
    "    '740',\n",
    "    '760',\n",
    "    '780',\n",
    "    '850',\n",
    "    '940',\n",
    "    '960',\n",
    "    'C30',\n",
    "    'C70',\n",
    "    'Coupe',\n",
    "    'S40',\n",
    "    'S60 Cross Country',\n",
    "    'S70',\n",
    "    'S80',\n",
    "    'V40',\n",
    "    'V50',\n",
    "    'V70',\n",
    "    'XC',\n",
    "    'XC70',\n",
    "    'S60',\n",
    "    'S90',\n",
    "    'V60',\n",
    "    'V60 Cross Country',\n",
    "    'V90',\n",
    "    'V90 Cross Country',\n",
    "    'XC40',\n",
    "    'XC60',\n",
    "    'XC90',\n",
    "]\n",
    "\n",
    "car_year=['2011','2012','2013','2014','2015','2016','2017','2018','2019','2020','2021']\n"
   ]
  },
  {
   "cell_type": "markdown",
   "metadata": {},
   "source": [
    "### 3. Create empty lists to store scrapped data"
   ]
  },
  {
   "cell_type": "code",
   "execution_count": 1,
   "metadata": {},
   "outputs": [],
   "source": [
    "#Review info\n",
    "Review_Title=[]\n",
    "Helpful_weight = []\n",
    "Customer_Rating = []\n",
    "Vehicle_Name=[]\n",
    "Review=[]\n",
    "AuthorName=[]\n",
    "Review_Date=[]\n",
    "\n",
    "#Car Session\n",
    "Vehicle_model = []\n",
    "Vehicle_Year = []\n",
    "Vehicle_Rating=[]\n",
    "\n"
   ]
  },
  {
   "cell_type": "markdown",
   "metadata": {},
   "source": [
    "### 4. Loop through the models and years on Edmund's website to obtain data"
   ]
  },
  {
   "cell_type": "code",
   "execution_count": null,
   "metadata": {},
   "outputs": [],
   "source": [
    "\n",
    "for model in car_model:\n",
    "    for year in car_year:\n",
    "        for pages in range(1, 15):\n",
    "            print(model+\" - \" + year + \" - \" + str(pages))\n",
    "            try:\n",
    "                #Command to request the data from 'https://www.edmunds.com/volvo/' + model + '/' + year + '/' + 'consumer-reviews/?pagenum=' + str(pages)\n",
    "                #Store the content in the variable called `response`\n",
    "                #Process if recieve a successful response (TTP status code = 200)\n",
    "                time.sleep(1)\n",
    "                url = 'https://www.edmunds.com/volvo/' + model + '/' + \\\n",
    "                    year + '/' + 'consumer-reviews/?pagenum=' + str(pages)\n",
    "                response = requests.get(url,headers={\"User-Agent\": \"Mozilla/5.0 (X11; CrOS x86_64 12871.102.0) AppleWebKit/537.36 (KHTML, like Gecko) Chrome/81.0.4044.141 Safari/537.36\"})\n",
    "                if response.status_code != 200:\n",
    "                    break\n",
    "    \n",
    "                # Convert source.content to a beautifulsoup object \n",
    "                # beautifulsoup can parse (extract specific information) HTML code    \n",
    "                html_soup = BeautifulSoup(response.text, \"html.parser\")\n",
    "                \n",
    "                # Find the widget that contains all the reviews\n",
    "                review_widget = html_soup.find('div', attrs={'class': 'reviews-list'})                \n",
    "                if len(review_widget) == 0:\n",
    "                    break\n",
    "                \n",
    "                # individual_review_container contains all the information for each review\n",
    "                individual_review_container = review_widget.find_all(class_='review-item text-gray-darker')\n",
    "                \n",
    "                # get vehicle_rating_overall\n",
    "                vehicle_rating_overall = html_soup.find('div', attrs={'class': 'average-rating flex-first'}).find('span').text\n",
    "\n",
    "                # loop through each individual_review_container\n",
    "                # to get Vehicle_model, Vehicle_Year, Vehicle_Rating, Customer_Rating\n",
    "                # and Review_Title, Helpful_weight, Vehicle_Name, Review\n",
    "                for a in individual_review_container:\n",
    "                    review = ''\n",
    "\n",
    "                    Vehicle_model.append(model)\n",
    "                    Vehicle_Year.append(year)\n",
    "                    Vehicle_Rating.append(vehicle_rating_overall)\n",
    "\n",
    "                    individual_overall_rating = a.find('span', attrs={'class': 'rating-stars text-primary-darker mr-0_25'})[\"aria-label\"].split()[0]\n",
    "                    Customer_Rating.append(individual_overall_rating)\n",
    "\n",
    "                    review_title = a.find('h3').text \n",
    "                    Review_Title.append(review_title)\n",
    "\n",
    "                    consumer_helpful_rating = a.find('div', {'class': 'xsmall mb-1_5'}).text\n",
    "                    Helpful_weight.append(consumer_helpful_rating)\n",
    "\n",
    "                    vehicle_title = a.find(class_='small text-gray mb-2').find_all('div')[1].text\n",
    "                    Vehicle_Name.append(vehicle_title)\n",
    "\n",
    "\n",
    "                    review_list = a.find_all('p')\n",
    "                    for each in review_list:\n",
    "                        review += (each.text+\" \")\n",
    "                    Review.append(review)\n",
    "\n",
    "                    author_name_and_time = a.find(class_='small text-gray mb-2').find('div').text.split(\",\")\n",
    "                    author_name = author_name_and_time[0]\n",
    "                    author_date = author_name_and_time[-1]\n",
    "                    AuthorName.append(author_name)\n",
    "                    Review_Date.append(author_date)\n",
    "\n",
    "\n",
    "            except Exception as e:\n",
    "                # If the download for some reason fails (ex. 404) the script will continue downloading\n",
    "                # the next article.\n",
    "                print(e)\n",
    "                print(\"continuing...\")\n",
    "                continue\n"
   ]
  },
  {
   "cell_type": "markdown",
   "metadata": {},
   "source": [
    "### 5.Convert the lists with scrapped data into dataframe and a csv file"
   ]
  },
  {
   "cell_type": "code",
   "execution_count": 260,
   "metadata": {},
   "outputs": [],
   "source": [
    "df = pd.DataFrame(\n",
    "    {'Vehicle_model' :Vehicle_model,\n",
    "    'Vehicle_Year':Vehicle_Year,\n",
    "    'Vehicle_Rating':Vehicle_Rating,\n",
    "     'Review_Date': Review_Date,\n",
    "     'Author_Name': AuthorName,\n",
    "     'Vehicle_Name': Vehicle_Name,\n",
    "     'Helpful_weight':Helpful_weight,\n",
    "     'Review_Title': Review_Title,\n",
    "     'Customer_Rating': Customer_Rating,\n",
    "     'Review': Review\n",
    "     })\n"
   ]
  },
  {
   "cell_type": "code",
   "execution_count": 266,
   "metadata": {},
   "outputs": [],
   "source": [
    "df.to_csv(\"Volvo_edmunds_10yrs.csv\")"
   ]
  },
  {
   "cell_type": "code",
   "execution_count": 272,
   "metadata": {},
   "outputs": [
    {
     "data": {
      "text/plain": [
       "Index(['Vehicle_model', 'Vehicle_Year', 'Vehicle_Rating', 'Review_Date',\n",
       "       'Author_Name', 'Vehicle_Name', 'Helpful_weight', 'Review_Title',\n",
       "       'Customer_Rating', 'Review'],\n",
       "      dtype='object')"
      ]
     },
     "execution_count": 272,
     "metadata": {},
     "output_type": "execute_result"
    }
   ],
   "source": [
    "df.columns"
   ]
  },
  {
   "cell_type": "code",
   "execution_count": 274,
   "metadata": {},
   "outputs": [
    {
     "data": {
      "text/plain": [
       "XC60                 244\n",
       "S60                  232\n",
       "XC90                 223\n",
       "XC40                  89\n",
       "XC70                  54\n",
       "S90                   53\n",
       "V60                   46\n",
       "C70                   33\n",
       "C30                   33\n",
       "V60 Cross Country     26\n",
       "S80                   18\n",
       "V90 Cross Country     11\n",
       "V90                   10\n",
       "V50                    4\n",
       "S60 Cross Country      2\n",
       "S40                    1\n",
       "Name: Vehicle_model, dtype: int64"
      ]
     },
     "execution_count": 274,
     "metadata": {},
     "output_type": "execute_result"
    }
   ],
   "source": [
    "df[\"Vehicle_model\"].value_counts()"
   ]
  },
  {
   "cell_type": "code",
   "execution_count": null,
   "metadata": {},
   "outputs": [],
   "source": []
  }
 ],
 "metadata": {
  "kernelspec": {
   "display_name": "Python 3",
   "language": "python",
   "name": "python3"
  },
  "language_info": {
   "codemirror_mode": {
    "name": "ipython",
    "version": 3
   },
   "file_extension": ".py",
   "mimetype": "text/x-python",
   "name": "python",
   "nbconvert_exporter": "python",
   "pygments_lexer": "ipython3",
   "version": "3.7.6"
  }
 },
 "nbformat": 4,
 "nbformat_minor": 4
}
